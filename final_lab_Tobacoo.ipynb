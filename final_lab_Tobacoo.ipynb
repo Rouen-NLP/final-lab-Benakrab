{
 "cells": [
  {
   "cell_type": "markdown",
   "metadata": {},
   "source": [
    "# 1- Data extraction and Processing\n",
    "In this first step, we will produce a csv file that contains the paths of the text files, the classes and the extracted text."
   ]
  },
  {
   "cell_type": "code",
   "execution_count": 1,
   "metadata": {
    "collapsed": true
   },
   "outputs": [],
   "source": [
    "import codecs\n",
    "import csv\n",
    "import re\n",
    "import nltk\n",
    "import warnings\n",
    "warnings.filterwarnings(\"ignore\")\n",
    "\n",
    "def lines_to_line(path):\n",
    "    \"\"\" input : path of a text file\n",
    "        output : extracted text after some preprocessing \"\"\"\n",
    "    file = codecs.open(path, 'r', \"utf-8\")\n",
    "    lines = file.readlines()\n",
    "    text = \" \".join([line.strip() for line in lines])\n",
    "    # remove stopwords\n",
    "    stopwords = nltk.corpus.stopwords.words('english')\n",
    "    text = \" \".join([word.lower() for word in text.split() if word.lower() not in stopwords])\n",
    "    # remove some special and control characters using regular expression\n",
    "    regex = re.compile(r'[\\n|\\r|\\t|$|£|&|(|*|%|@|)|\"|“|,|:|.|;|+|?|!|~|{|}|§|#|\"]')\n",
    "    text = regex.sub(\" \", text)\n",
    "    # remove words with less than four characters\n",
    "    text_recovered = \" \".join([word for word in text.split() if len(word) >= 4])\n",
    "    return text_recovered\n",
    "\n",
    "\n",
    "def extract_text(img_csv, txt_csv):\n",
    "    \"\"\" inputs : two csv files : source and target\n",
    "        the first contains the image paths and their classes\n",
    "        the seconde is the csv file produced that contains\n",
    "        the text paths, the classes and the extracted text\n",
    "        outputs : list of empty files, length of the list \"\"\"\n",
    "    csvinput = codecs.open(img_csv,'r', \"utf-8\")\n",
    "    csvoutput = codecs.open(txt_csv, 'w', \"utf-8\")\n",
    "    writer = csv.writer(csvoutput, delimiter='\\t')\n",
    "    reader = csv.reader(csvinput, delimiter=',')\n",
    "    # save the paths of the empty text files\n",
    "    NAN = []\n",
    "    # loop over the input csv file\n",
    "    for i, row in enumerate(reader):\n",
    "        # change the image path to a text path\n",
    "        row[0] = row[0].replace(\"jpg\", \"txt\")\n",
    "        # create the headers\n",
    "        if i == 0:\n",
    "            writer.writerow([\"txt_path\", row[1], \"text\"])\n",
    "        # extract the text\n",
    "        else:\n",
    "            text = lines_to_line(\"data/\" + row[0])\n",
    "            # if missing values are detected\n",
    "            if text == \"\":\n",
    "                NAN.append(row[0])\n",
    "            # create the csv file with the no empty extrcated values\n",
    "            else:\n",
    "                writer.writerow([row[0], row[1], text])\n",
    "    csvinput.close()\n",
    "    csvoutput.close()\n",
    "    return NAN, len(NAN)\n",
    "missing_data, l = extract_text(\"Tobacco3482.csv\", \"Tobacco_text.csv\")"
   ]
  },
  {
   "cell_type": "code",
   "execution_count": 2,
   "metadata": {},
   "outputs": [
    {
     "name": "stdout",
     "output_type": "stream",
     "text": [
      "Paths of the empty files : \n",
      "Advertisement/2050834062.txt\n",
      "Advertisement/2065199983_9984.txt\n",
      "Advertisement/2072998094.txt\n",
      "Advertisement/501947737_501947738.txt\n",
      "Advertisement/502610513+-0516.txt\n",
      "Advertisement/512725630.txt\n",
      "Advertisement/517508450+-8453.txt\n",
      "Advertisement/521150892+-0895.txt\n",
      "Letter/512753125.txt\n",
      "Note/00093561.txt\n",
      "Note/03016504.txt\n",
      "Note/03563613.txt\n",
      "Note/1000240946.txt\n",
      "Note/1000261527.txt\n",
      "Note/1003188772.txt\n",
      "Note/1003286334.txt\n",
      "Note/10226038.txt\n",
      "Note/10384492.txt\n",
      "Note/2021500947.txt\n",
      "Note/2021655168.txt\n",
      "Note/2029146130.txt\n",
      "Note/2029237593.txt\n",
      "Note/2031018769.txt\n",
      "Note/2043246073.txt\n",
      "Note/2048858141.txt\n",
      "Note/2063181986.txt\n",
      "Note/2070386760.txt\n",
      "Note/2082693424a.txt\n",
      "Note/50028588.txt\n",
      "Note/50054229.txt\n",
      "Note/50488503-8503.txt\n",
      "Note/80191212_80191213.txt\n",
      "Nomber of empty files : 32\n"
     ]
    }
   ],
   "source": [
    "print(\"Paths of the empty files : \")\n",
    "for p in missing_data:\n",
    "    print(p)\n",
    "print(\"Nomber of empty files : %d\" %l)"
   ]
  },
  {
   "cell_type": "markdown",
   "metadata": {},
   "source": [
    "# 2- Data Exploration"
   ]
  },
  {
   "cell_type": "code",
   "execution_count": 3,
   "metadata": {},
   "outputs": [
    {
     "name": "stdout",
     "output_type": "stream",
     "text": [
      "----------------- Shapes : ----------------\n",
      "(3450, 3)\n"
     ]
    }
   ],
   "source": [
    "import pandas as pd\n",
    "import seaborn as sns\n",
    "import matplotlib.pyplot as plt\n",
    "%matplotlib inline\n",
    "\n",
    "# create pandas dataframe\n",
    "df = pd.read_csv(\"Tobacco_text.csv\", sep=\"\\t\")\n",
    "# display the dimensions\n",
    "print(\"----------------- Shapes : ----------------\")\n",
    "print(df.shape)"
   ]
  },
  {
   "cell_type": "code",
   "execution_count": 4,
   "metadata": {
    "scrolled": true
   },
   "outputs": [
    {
     "data": {
      "text/html": [
       "<div>\n",
       "<style>\n",
       "    .dataframe thead tr:only-child th {\n",
       "        text-align: right;\n",
       "    }\n",
       "\n",
       "    .dataframe thead th {\n",
       "        text-align: left;\n",
       "    }\n",
       "\n",
       "    .dataframe tbody tr th {\n",
       "        vertical-align: top;\n",
       "    }\n",
       "</style>\n",
       "<table border=\"1\" class=\"dataframe\">\n",
       "  <thead>\n",
       "    <tr style=\"text-align: right;\">\n",
       "      <th></th>\n",
       "      <th>txt_path</th>\n",
       "      <th>label</th>\n",
       "      <th>text</th>\n",
       "    </tr>\n",
       "  </thead>\n",
       "  <tbody>\n",
       "    <tr>\n",
       "      <th>0</th>\n",
       "      <td>Advertisement/0000136188.txt</td>\n",
       "      <td>Advertisement</td>\n",
       "      <td>mpertant sesiye teaetered cabiieess baely does...</td>\n",
       "    </tr>\n",
       "    <tr>\n",
       "      <th>1</th>\n",
       "      <td>Advertisement/0000435350.txt</td>\n",
       "      <td>Advertisement</td>\n",
       "      <td>fitm m66400 7127 kools cigarettes taste good c...</td>\n",
       "    </tr>\n",
       "    <tr>\n",
       "      <th>2</th>\n",
       "      <td>Advertisement/0000556056.txt</td>\n",
       "      <td>Advertisement</td>\n",
       "      <td>vending operators columns worth per_machine ye...</td>\n",
       "    </tr>\n",
       "    <tr>\n",
       "      <th>3</th>\n",
       "      <td>Advertisement/0030048095.txt</td>\n",
       "      <td>Advertisement</td>\n",
       "      <td>march tersrearep ills weisais cere tars ined n...</td>\n",
       "    </tr>\n",
       "    <tr>\n",
       "      <th>4</th>\n",
       "      <td>Advertisement/0030048989.txt</td>\n",
       "      <td>Advertisement</td>\n",
       "      <td>spend milder moment raleigh special treatment ...</td>\n",
       "    </tr>\n",
       "    <tr>\n",
       "      <th>5</th>\n",
       "      <td>Advertisement/0030049569.txt</td>\n",
       "      <td>Advertisement</td>\n",
       "      <td>onrel ules tales lowered lots taste compare ta...</td>\n",
       "    </tr>\n",
       "    <tr>\n",
       "      <th>6</th>\n",
       "      <td>Advertisement/03496270.txt</td>\n",
       "      <td>Advertisement</td>\n",
       "      <td>‘with talk smoking decided either quit smoke</td>\n",
       "    </tr>\n",
       "    <tr>\n",
       "      <th>7</th>\n",
       "      <td>Advertisement/03567810.txt</td>\n",
       "      <td>Advertisement</td>\n",
       "      <td>buiseaut --uoanyf sanosdun liyl adpuloy load 9...</td>\n",
       "    </tr>\n",
       "    <tr>\n",
       "      <th>8</th>\n",
       "      <td>Advertisement/03722789.txt</td>\n",
       "      <td>Advertisement</td>\n",
       "      <td>that’s newspapel that's said body else caught ...</td>\n",
       "    </tr>\n",
       "    <tr>\n",
       "      <th>9</th>\n",
       "      <td>Advertisement/04102204.txt</td>\n",
       "      <td>Advertisement</td>\n",
       "      <td>brown william marfan frabee csa/supermarkets 1...</td>\n",
       "    </tr>\n",
       "    <tr>\n",
       "      <th>10</th>\n",
       "      <td>Advertisement/04106546.txt</td>\n",
       "      <td>Advertisement</td>\n",
       "      <td>oi4¥o gdomous s4ouiz e4ohouis s434 1bwidd sods...</td>\n",
       "    </tr>\n",
       "  </tbody>\n",
       "</table>\n",
       "</div>"
      ],
      "text/plain": [
       "                        txt_path          label  \\\n",
       "0   Advertisement/0000136188.txt  Advertisement   \n",
       "1   Advertisement/0000435350.txt  Advertisement   \n",
       "2   Advertisement/0000556056.txt  Advertisement   \n",
       "3   Advertisement/0030048095.txt  Advertisement   \n",
       "4   Advertisement/0030048989.txt  Advertisement   \n",
       "5   Advertisement/0030049569.txt  Advertisement   \n",
       "6     Advertisement/03496270.txt  Advertisement   \n",
       "7     Advertisement/03567810.txt  Advertisement   \n",
       "8     Advertisement/03722789.txt  Advertisement   \n",
       "9     Advertisement/04102204.txt  Advertisement   \n",
       "10    Advertisement/04106546.txt  Advertisement   \n",
       "\n",
       "                                                 text  \n",
       "0   mpertant sesiye teaetered cabiieess baely does...  \n",
       "1   fitm m66400 7127 kools cigarettes taste good c...  \n",
       "2   vending operators columns worth per_machine ye...  \n",
       "3   march tersrearep ills weisais cere tars ined n...  \n",
       "4   spend milder moment raleigh special treatment ...  \n",
       "5   onrel ules tales lowered lots taste compare ta...  \n",
       "6        ‘with talk smoking decided either quit smoke  \n",
       "7   buiseaut --uoanyf sanosdun liyl adpuloy load 9...  \n",
       "8   that’s newspapel that's said body else caught ...  \n",
       "9   brown william marfan frabee csa/supermarkets 1...  \n",
       "10  oi4¥o gdomous s4ouiz e4ohouis s434 1bwidd sods...  "
      ]
     },
     "execution_count": 4,
     "metadata": {},
     "output_type": "execute_result"
    }
   ],
   "source": [
    "# display the ten first rows\n",
    "df.loc[0 : 10,:]"
   ]
  },
  {
   "cell_type": "code",
   "execution_count": 5,
   "metadata": {},
   "outputs": [
    {
     "name": "stdout",
     "output_type": "stream",
     "text": [
      "<class 'pandas.core.frame.DataFrame'>\n",
      "RangeIndex: 3450 entries, 0 to 3449\n",
      "Data columns (total 3 columns):\n",
      "txt_path    3450 non-null object\n",
      "label       3450 non-null object\n",
      "text        3450 non-null object\n",
      "dtypes: object(3)\n",
      "memory usage: 80.9+ KB\n"
     ]
    }
   ],
   "source": [
    "# check for missing values\n",
    "df.info()"
   ]
  },
  {
   "cell_type": "markdown",
   "metadata": {},
   "source": [
    "As we can see, from the information above, there is no missing values. Now let's compute and plot the frequency of the most common words :"
   ]
  },
  {
   "cell_type": "code",
   "execution_count": 6,
   "metadata": {},
   "outputs": [
    {
     "data": {
      "image/png": "[encoded data removed]",
      "text/plain": [
       "<matplotlib.figure.Figure at 0x15e11f98>"
      ]
     },
     "metadata": {},
     "output_type": "display_data"
    }
   ],
   "source": [
    "# compute word frequencies\n",
    "f_words = df.text.str.split(expand=True).stack().value_counts()\n",
    "fig = plt.figure(figsize=(20,5))\n",
    "f_words[:50].plot(kind='bar')\n",
    "plt.title(\"The 50 most common words\")\n",
    "plt.show()"
   ]
  },
  {
   "cell_type": "markdown",
   "metadata": {},
   "source": [
    "As we can see from the histogram, our documents are dealing, mainly, with tobacco as a topic.<br>\n",
    "Now let's visualize the distribution of our classes :"
   ]
  },
  {
   "cell_type": "code",
   "execution_count": 7,
   "metadata": {},
   "outputs": [
    {
     "data": {
      "image/png": "[encoded data removed]",
      "text/plain": [
       "<matplotlib.figure.Figure at 0x15dfcf60>"
      ]
     },
     "metadata": {},
     "output_type": "display_data"
    }
   ],
   "source": [
    "# Plot the frequencies of the classes in descending order\n",
    "sns.countplot(data = df, y ='label', order = df['label'].value_counts().index)\n",
    "plt.show()"
   ]
  },
  {
   "cell_type": "code",
   "execution_count": 8,
   "metadata": {
    "collapsed": true
   },
   "outputs": [],
   "source": [
    "from sklearn.model_selection import train_test_split\n",
    "# Split the dataset in a stratified way\n",
    "X_train, X_test, Y_train, Y_test = train_test_split(df[\"text\"],\n",
    "                                                    df[\"label\"],\n",
    "                                                    stratify=df[\"label\"],\n",
    "                                                    test_size=0.2,\n",
    "                                                    random_state = 0)\n",
    "# Split the train set to train and dev sets \n",
    "x_train, x_dev, y_train, y_dev = train_test_split(X_train, Y_train,\n",
    "                                                  stratify=Y_train,\n",
    "                                                  test_size=0.25, random_state = 0)"
   ]
  },
  {
   "cell_type": "markdown",
   "metadata": {},
   "source": [
    "Let's verify that our split procedure is done in a stratified way"
   ]
  },
  {
   "cell_type": "code",
   "execution_count": 9,
   "metadata": {},
   "outputs": [
    {
     "data": {
      "image/png": "[encoded data removed]",
      "text/plain": [
       "<matplotlib.figure.Figure at 0x15d9e588>"
      ]
     },
     "metadata": {},
     "output_type": "display_data"
    }
   ],
   "source": [
    "# convert pandas series to dataframes\n",
    "df_y_train = pd.Series.to_frame(y_train)\n",
    "df_y_dev = pd.Series.to_frame(y_dev)\n",
    "df_y_test = pd.Series.to_frame(Y_test)\n",
    "# plots\n",
    "fig, ax = plt.subplots(1, 3, figsize=(13,5))\n",
    "sns.countplot(data = df_y_train, y ='label',\\\n",
    "              order = df_y_train['label'].value_counts().index, ax = ax[0])\n",
    "ax[0].set(title = \"Frequency histogram of the train dataset\")\n",
    "sns.countplot(data = df_y_dev, y ='label',\\\n",
    "              order = df_y_dev['label'].value_counts().index, ax = ax[1])\n",
    "ax[1].set(title = \"Frequency histogram of the dev dataset\")\n",
    "sns.countplot(data = df_y_test, y ='label',\\\n",
    "              order = df_y_test['label'].value_counts().index, ax = ax[2])\n",
    "ax[2].set(title = \"Frequency histogram of the test dataset\")\n",
    "fig.tight_layout()\n",
    "plt.show()"
   ]
  },
  {
   "cell_type": "markdown",
   "metadata": {},
   "source": [
    "# 3- Building Models\n",
    "Let's start with building features and train our first Naive Bayes classifier\n",
    "## 3.1- Bag-of-Words\n",
    "Before builiding our features, we need to specify their maximum number. One way to do this is by observing the word frequency histogram produced above. As we can see, we can build vectors by taking the maximum number of features from the range(500, 3000). Now let's search for an adequate value according to some model :"
   ]
  },
  {
   "cell_type": "code",
   "execution_count": 10,
   "metadata": {},
   "outputs": [
    {
     "name": "stdout",
     "output_type": "stream",
     "text": [
      "---------- max_features = 500 ----------------\n",
      "------- Naive Bayes Classifier --------\n",
      "Mean Accuracy : 0.67\n",
      "Standard deviation : 0.02\n",
      "------- Linear SVM --------\n",
      "Mean Accuracy : 0.68\n",
      "Standard deviation : 0.02\n",
      "---------- max_features = 1000 ----------------\n",
      "------- Naive Bayes Classifier --------\n",
      "Mean Accuracy : 0.69\n",
      "Standard deviation : 0.02\n",
      "------- Linear SVM --------\n",
      "Mean Accuracy : 0.69\n",
      "Standard deviation : 0.02\n",
      "---------- max_features = 1500 ----------------\n",
      "------- Naive Bayes Classifier --------\n",
      "Mean Accuracy : 0.70\n",
      "Standard deviation : 0.02\n",
      "------- Linear SVM --------\n",
      "Mean Accuracy : 0.70\n",
      "Standard deviation : 0.01\n",
      "---------- max_features = 2000 ----------------\n",
      "------- Naive Bayes Classifier --------\n",
      "Mean Accuracy : 0.70\n",
      "Standard deviation : 0.03\n",
      "------- Linear SVM --------\n",
      "Mean Accuracy : 0.71\n",
      "Standard deviation : 0.02\n",
      "---------- max_features = 2200 ----------------\n",
      "------- Naive Bayes Classifier --------\n",
      "Mean Accuracy : 0.70\n",
      "Standard deviation : 0.02\n",
      "------- Linear SVM --------\n",
      "Mean Accuracy : 0.71\n",
      "Standard deviation : 0.02\n",
      "---------- max_features = 2400 ----------------\n",
      "------- Naive Bayes Classifier --------\n",
      "Mean Accuracy : 0.70\n",
      "Standard deviation : 0.02\n",
      "------- Linear SVM --------\n",
      "Mean Accuracy : 0.72\n",
      "Standard deviation : 0.02\n",
      "---------- max_features = 2600 ----------------\n",
      "------- Naive Bayes Classifier --------\n",
      "Mean Accuracy : 0.70\n",
      "Standard deviation : 0.02\n",
      "------- Linear SVM --------\n",
      "Mean Accuracy : 0.72\n",
      "Standard deviation : 0.01\n",
      "---------- max_features = 3000 ----------------\n",
      "------- Naive Bayes Classifier --------\n",
      "Mean Accuracy : 0.70\n",
      "Standard deviation : 0.02\n",
      "------- Linear SVM --------\n",
      "Mean Accuracy : 0.72\n",
      "Standard deviation : 0.01\n"
     ]
    }
   ],
   "source": [
    "from sklearn.feature_extraction.text import CountVectorizer\n",
    "from sklearn.naive_bayes import MultinomialNB\n",
    "from sklearn.svm import LinearSVC\n",
    "from sklearn.model_selection import cross_val_score\n",
    "\n",
    "Max_features = [500, 1000, 1500, 2000, 2200, 2400, 2600, 3000]\n",
    "for f in Max_features:\n",
    "    # Create document vectors\n",
    "    vectorizer = CountVectorizer(max_features=f)\n",
    "    vectorizer.fit(x_train)\n",
    "    X_train_counts = vectorizer.transform(x_train)\n",
    "    # train a Naive Bayes classifier\n",
    "    clf = MultinomialNB().fit(X_train_counts, y_train)\n",
    "    # train a linear svm\n",
    "    clf_svm = LinearSVC(multi_class=\"crammer_singer\").fit(X_train_counts, y_train)\n",
    "    # Scores of 5-folds cross validation\n",
    "    scores = cross_val_score(clf, X_train_counts, y_train, cv=5)\n",
    "    print(\"---------- max_features = \" + str(f) + \" ----------------\")\n",
    "    print(\"------- Naive Bayes Classifier --------\")\n",
    "    print(\"Mean Accuracy : %.2f\" %scores.mean())\n",
    "    print(\"Standard deviation : %.2f\" %scores.std())\n",
    "    scores = cross_val_score(clf_svm, X_train_counts, y_train, cv=5)\n",
    "    print(\"------- Linear SVM --------\")\n",
    "    print(\"Mean Accuracy : %.2f\" %scores.mean())\n",
    "    print(\"Standard deviation : %.2f\" %scores.std())"
   ]
  },
  {
   "cell_type": "markdown",
   "metadata": {},
   "source": [
    "According to the two classifiers, 2600 would be an appropriate value of maximum features. Now, let's vectorize our model using this value and compute the accuracy on the dev dataset :"
   ]
  },
  {
   "cell_type": "code",
   "execution_count": 11,
   "metadata": {},
   "outputs": [
    {
     "name": "stdout",
     "output_type": "stream",
     "text": [
      "Accuracy Naive Bayes : 0.71\n",
      "Accuracy SVM : 0.71\n"
     ]
    }
   ],
   "source": [
    "vectorizer = CountVectorizer(max_features=2600)\n",
    "vectorizer.fit(x_train)\n",
    "X_train_counts = vectorizer.transform(x_train)\n",
    "X_dev_counts = vectorizer.transform(x_dev)\n",
    "clf_vect = MultinomialNB().fit(X_train_counts, y_train)\n",
    "clf_svm = LinearSVC(multi_class=\"crammer_singer\").fit(X_train_counts, y_train)\n",
    "print(\"Accuracy Naive Bayes : %.2f\" %clf_vect.score(X_dev_counts, y_dev))\n",
    "print(\"Accuracy SVM : %.2f\" %clf_svm.score(X_dev_counts, y_dev))"
   ]
  },
  {
   "cell_type": "markdown",
   "metadata": {},
   "source": [
    "## 3.2- TF-IDF representation\n",
    "Let's reproduce the same procedure, but instead of using *CountVectorizer* only, we will add a TF-IDF representation and inject more complexity to our modelization :"
   ]
  },
  {
   "cell_type": "code",
   "execution_count": 12,
   "metadata": {},
   "outputs": [
    {
     "name": "stdout",
     "output_type": "stream",
     "text": [
      "Mean Accuracy Naive Bayes : 0.65\n",
      "Mean Accuracy SVM : 0.75\n",
      "Mean Accuracy MLP : 0.75\n",
      "_________ Accuracies on the dev set -------------\n",
      "Naive Bayes : 0.66\n",
      "SVM : 0.77\n",
      "MLP : 0.74\n"
     ]
    }
   ],
   "source": [
    "from sklearn.feature_extraction.text import TfidfTransformer\n",
    "from sklearn.neural_network import MLPClassifier\n",
    "\n",
    "# Create document vectors\n",
    "vectorizer = CountVectorizer(max_features=2600)\n",
    "vectorizer.fit(x_train)\n",
    "X_train_counts = vectorizer.transform(x_train)\n",
    "X_dev_counts = vectorizer.transform(x_dev)\n",
    "tf_transformer = TfidfTransformer().fit(X_train_counts)\n",
    "X_train_tf = tf_transformer.transform(X_train_counts)\n",
    "X_dev_tf = tf_transformer.transform(X_dev_counts)\n",
    "# train a Naive Bayes classifier\n",
    "clf_tf = MultinomialNB().fit(X_train_tf, y_train)\n",
    "# train a linear svm\n",
    "clf_svm_tf = LinearSVC(multi_class=\"crammer_singer\").fit(X_train_tf, y_train)\n",
    "# train MLP\n",
    "clf_mlp_tf = MLPClassifier().fit(X_train_tf, y_train)\n",
    "# scores\n",
    "scores_tf = cross_val_score(clf_tf, X_train_tf, y_train, cv=5)\n",
    "scores_svm_tf = cross_val_score(clf_svm_tf, X_train_tf, y_train, cv=5)\n",
    "scores_mlp_tf = cross_val_score(clf_mlp_tf, X_train_tf, y_train, cv=5)\n",
    "# Mean Accuracies\n",
    "print(\"Mean Accuracy Naive Bayes : %.2f\" %scores_tf.mean())\n",
    "print(\"Mean Accuracy SVM : %.2f\" %scores_svm_tf.mean())\n",
    "print(\"Mean Accuracy MLP : %.2f\" %scores_mlp_tf.mean())\n",
    "print(\"_________ Accuracies on the dev set -------------\")\n",
    "print(\"Naive Bayes : %.2f\" %clf_tf.score(X_dev_tf, y_dev))\n",
    "print(\"SVM : %.2f\" %clf_svm_tf.score(X_dev_tf, y_dev))\n",
    "print(\"MLP : %.2f\" %clf_mlp_tf.score(X_dev_tf, y_dev))"
   ]
  },
  {
   "cell_type": "markdown",
   "metadata": {},
   "source": [
    "## 3.2- Error analysis\n",
    "The classification report and the confusion matrix will provide us more details about the behaviour of our classifiers :"
   ]
  },
  {
   "cell_type": "code",
   "execution_count": 13,
   "metadata": {},
   "outputs": [
    {
     "name": "stdout",
     "output_type": "stream",
     "text": [
      "----------------------- TF-IDF representation ----------------------------\n",
      "----------------------- Linear SVM ----------------------------\n",
      "Classification Report\n",
      "               precision    recall  f1-score   support\n",
      "\n",
      "Advertisement       0.79      0.67      0.72        45\n",
      "        Email       0.93      0.95      0.94       120\n",
      "         Form       0.77      0.85      0.81        86\n",
      "       Letter       0.75      0.70      0.72       113\n",
      "         Memo       0.79      0.85      0.82       124\n",
      "         News       0.80      0.84      0.82        38\n",
      "         Note       0.58      0.54      0.56        35\n",
      "       Report       0.54      0.47      0.51        53\n",
      "       Resume       0.92      1.00      0.96        24\n",
      "   Scientific       0.61      0.60      0.60        52\n",
      "\n",
      "  avg / total       0.77      0.77      0.77       690\n",
      "\n",
      "Confusion Matrix\n",
      "[[ 30   0   2   0   2   3   8   0   0   0]\n",
      " [  0 114   0   2   4   0   0   0   0   0]\n",
      " [  1   1  73   3   1   0   2   1   1   3]\n",
      " [  4   2   3  79  12   1   0   8   0   4]\n",
      " [  0   1   4   6 105   0   1   2   0   5]\n",
      " [  1   0   0   0   0  32   1   4   0   0]\n",
      " [  1   3   2   4   1   0  19   2   1   2]\n",
      " [  0   0   5   9   5   2   1  25   0   6]\n",
      " [  0   0   0   0   0   0   0   0  24   0]\n",
      " [  1   1   6   3   3   2   1   4   0  31]]\n",
      "----------------------- MLP ----------------------------\n",
      "Classification Report\n",
      "               precision    recall  f1-score   support\n",
      "\n",
      "Advertisement       0.81      0.76      0.78        45\n",
      "        Email       0.96      0.94      0.95       120\n",
      "         Form       0.73      0.78      0.75        86\n",
      "       Letter       0.68      0.68      0.68       113\n",
      "         Memo       0.72      0.76      0.74       124\n",
      "         News       0.82      0.87      0.85        38\n",
      "         Note       0.58      0.54      0.56        35\n",
      "       Report       0.43      0.42      0.42        53\n",
      "       Resume       1.00      1.00      1.00        24\n",
      "   Scientific       0.65      0.58      0.61        52\n",
      "\n",
      "  avg / total       0.74      0.74      0.74       690\n",
      "\n",
      "Confusion Matrix\n",
      "[[ 34   0   1   1   0   1   8   0   0   0]\n",
      " [  0 113   0   3   4   0   0   0   0   0]\n",
      " [  3   1  67   6   2   0   2   1   0   4]\n",
      " [  1   1   3  77  17   1   0  11   0   2]\n",
      " [  1   1   7   9  94   0   1   7   0   4]\n",
      " [  0   0   0   1   1  33   1   2   0   0]\n",
      " [  2   2   2   4   4   0  19   0   0   2]\n",
      " [  0   0   6  12   6   3   0  22   0   4]\n",
      " [  0   0   0   0   0   0   0   0  24   0]\n",
      " [  1   0   6   0   3   2   2   8   0  30]]\n"
     ]
    }
   ],
   "source": [
    "from sklearn.metrics import classification_report\n",
    "from sklearn.metrics import confusion_matrix\n",
    "\n",
    "print(\"----------------------- TF-IDF representation ----------------------------\")\n",
    "print(\"----------------------- Linear SVM ----------------------------\")\n",
    "y_pred = clf_svm_tf.predict(X_dev_tf)\n",
    "print(\"Classification Report\")\n",
    "print(classification_report(y_dev, y_pred))\n",
    "print(\"Confusion Matrix\")\n",
    "print(confusion_matrix(y_dev, y_pred))\n",
    "print(\"----------------------- MLP ----------------------------\")\n",
    "y_pred = clf_mlp_tf.predict(X_dev_tf)\n",
    "print(\"Classification Report\")\n",
    "print(classification_report(y_dev, y_pred))\n",
    "print(\"Confusion Matrix\")\n",
    "print(confusion_matrix(y_dev, y_pred))"
   ]
  },
  {
   "cell_type": "markdown",
   "metadata": {},
   "source": [
    "By observing the classification reports and the confusion matrices of the Linear SVM classifier and the MLP classifier ; both manifest nearly the same behaviour. For instance, both the models are not confused about the *Resume* observations ; on the contrary, they are so confused about the *Report* observations.<br>\n",
    "In order to deal with just one model, one shall choose the one with better performances and less complexity.<br>\n",
    "Now, we will continue our journey with the Linear SVM model."
   ]
  },
  {
   "cell_type": "markdown",
   "metadata": {},
   "source": [
    "## 3.3- Bias-Variance\n",
    "To get sense about the bias-variance issue, let's plot the learning curve and see if our SVM classifier can do better with more data instances :"
   ]
  },
  {
   "cell_type": "code",
   "execution_count": 14,
   "metadata": {},
   "outputs": [
    {
     "data": {
      "image/png": "[encoded data removed]",
      "text/plain": [
       "<matplotlib.figure.Figure at 0x1596ccc0>"
      ]
     },
     "metadata": {},
     "output_type": "display_data"
    }
   ],
   "source": [
    "from sklearn.model_selection import learning_curve\n",
    "import numpy as np\n",
    "\n",
    "train_sizes, train_scores, valid_scores = learning_curve(LinearSVC(multi_class=\"crammer_singer\"),\\\n",
    "                      X_train_counts, y_train, train_sizes=[100, 500, 1000, 1200, 1400, 1600], cv=5)\n",
    "\n",
    "# train_sizes, train_scores, valid_scores\n",
    "train_scores_mean = np.mean(train_scores, axis=1)\n",
    "train_scores_std = np.std(train_scores, axis=1)\n",
    "valid_scores_mean = np.mean(valid_scores, axis=1)\n",
    "valid_scores_std = np.std(valid_scores, axis=1)\n",
    "plt.fill_between(train_sizes, train_scores_mean - train_scores_std,\n",
    "                     train_scores_mean + train_scores_std, alpha=0.1,\n",
    "                     color=\"r\")\n",
    "plt.fill_between(train_sizes, valid_scores_mean - valid_scores_std,\n",
    "                     valid_scores_mean + valid_scores_std, alpha=0.1, color=\"g\")\n",
    "plt.plot(train_sizes, train_scores_mean, 'o-', color=\"r\",\n",
    "             label=\"Training score\")\n",
    "plt.plot(train_sizes, valid_scores_mean, 'o-', color=\"g\",\n",
    "             label=\"Cross-validation score\")\n",
    "plt.title(\"Learning curve for our Linear SVM model\")\n",
    "plt.legend(loc=\"best\")\n",
    "plt.show()"
   ]
  },
  {
   "cell_type": "markdown",
   "metadata": {},
   "source": [
    "As the curve show, adding more observations can help our model to obtain better performance in generalization.<br>\n",
    "The next step is to optimize the hyperparameters using a Grid Search Cross-Validation method."
   ]
  },
  {
   "cell_type": "markdown",
   "metadata": {},
   "source": [
    "## 3.4- Hyperparameters optimization"
   ]
  },
  {
   "cell_type": "code",
   "execution_count": 15,
   "metadata": {},
   "outputs": [
    {
     "name": "stdout",
     "output_type": "stream",
     "text": [
      "Fitting 3 folds for each of 288 candidates, totalling 864 fits\n"
     ]
    },
    {
     "name": "stderr",
     "output_type": "stream",
     "text": [
      "[Parallel(n_jobs=2)]: Done  28 tasks      | elapsed:    6.1s\n",
      "[Parallel(n_jobs=2)]: Done 124 tasks      | elapsed:   17.7s\n",
      "[Parallel(n_jobs=2)]: Done 284 tasks      | elapsed:  1.0min\n",
      "[Parallel(n_jobs=2)]: Done 508 tasks      | elapsed:  1.8min\n",
      "[Parallel(n_jobs=2)]: Done 796 tasks      | elapsed:  3.3min\n",
      "[Parallel(n_jobs=2)]: Done 864 out of 864 | elapsed:  3.8min finished\n"
     ]
    },
    {
     "name": "stdout",
     "output_type": "stream",
     "text": [
      "{'C': 1, 'loss': 'squared_hinge', 'max_iter': 1000, 'penalty': 'l1', 'tol': 0.001}\n"
     ]
    }
   ],
   "source": [
    "from sklearn.model_selection import GridSearchCV\n",
    "hyperparameters = {'penalty': [\"l1\",\"l2\"], \\\n",
    "              \"loss\" : [\"squared_hinge\", \"hinge\"],\\\n",
    "                \"tol\" : [1e-3, 1e-4, 1e-5],\n",
    "                \"C\" : [1e-2, 1e-1, 0.5, 1, 5, 10, 50, 100],\n",
    "                \"max_iter\" : [1000, 2000, 3000] }\n",
    "clf_grid = GridSearchCV(LinearSVC(multi_class=\"crammer_singer\"),\\\n",
    "                        hyperparameters, n_jobs=2, verbose=3)\n",
    "clf_grid.fit(X_train_tf, y_train)\n",
    "print(clf_grid.best_params_)"
   ]
  },
  {
   "cell_type": "markdown",
   "metadata": {},
   "source": [
    "Now, we will build our model according to the winning configuration, train it on the whole training dataset and compute our last score on the test dataset :"
   ]
  },
  {
   "cell_type": "code",
   "execution_count": 16,
   "metadata": {},
   "outputs": [
    {
     "name": "stdout",
     "output_type": "stream",
     "text": [
      "Accuracy on the test dataset = 0.76\n",
      "Classification Report\n",
      "               precision    recall  f1-score   support\n",
      "\n",
      "Advertisement       0.87      0.61      0.72        44\n",
      "        Email       0.93      0.98      0.96       120\n",
      "         Form       0.84      0.87      0.86        86\n",
      "       Letter       0.75      0.73      0.74       113\n",
      "         Memo       0.75      0.85      0.80       124\n",
      "         News       0.67      0.63      0.65        38\n",
      "         Note       0.45      0.50      0.47        36\n",
      "       Report       0.43      0.36      0.39        53\n",
      "       Resume       0.96      1.00      0.98        24\n",
      "   Scientific       0.70      0.63      0.67        52\n",
      "\n",
      "  avg / total       0.76      0.76      0.76       690\n",
      "\n",
      "Confusion Matrix\n",
      "[[ 27   0   2   1   1   0  10   3   0   0]\n",
      " [  0 118   0   1   1   0   0   0   0   0]\n",
      " [  0   0  75   1   4   0   4   1   0   1]\n",
      " [  0   2   0  83  15   1   0   8   0   4]\n",
      " [  1   3   0   7 106   1   0   3   0   3]\n",
      " [  1   0   2   2   0  24   5   2   0   2]\n",
      " [  0   4   7   3   3   0  18   0   1   0]\n",
      " [  2   0   1  10   8   7   2  19   0   4]\n",
      " [  0   0   0   0   0   0   0   0  24   0]\n",
      " [  0   0   2   2   3   3   1   8   0  33]]\n"
     ]
    }
   ],
   "source": [
    "vectorizer = CountVectorizer(max_features=2600)\n",
    "vectorizer.fit(X_train)\n",
    "X_train_counts = vectorizer.transform(X_train)\n",
    "X_test_counts = vectorizer.transform(X_test)\n",
    "tf_transformer = TfidfTransformer().fit(X_train_counts)\n",
    "X_train_tf = tf_transformer.transform(X_train_counts)\n",
    "X_test_tf = tf_transformer.transform(X_test_counts)\n",
    "final_clf_svm_tf = LinearSVC(multi_class=\"crammer_singer\", \\\n",
    "                            C=1, loss='squared_hinge',\\\n",
    "                             max_iter= 1000, penalty='l1',\\\n",
    "                             tol= 0.001).fit(X_train_tf, Y_train)\n",
    "print(\"Accuracy on the test dataset = %.2f\" %final_clf_svm_tf.score(X_test_tf, Y_test))\n",
    "y_pred = final_clf_svm_tf.predict(X_test_tf)\n",
    "print(\"Classification Report\")\n",
    "print(classification_report(Y_test, y_pred))\n",
    "print(\"Confusion Matrix\")\n",
    "print(confusion_matrix(Y_test, y_pred))"
   ]
  },
  {
   "cell_type": "markdown",
   "metadata": {},
   "source": [
    "## 3.5- Neural Network Classifier\n",
    "We will now perform our classification using a convolutional neural network :"
   ]
  },
  {
   "cell_type": "code",
   "execution_count": 17,
   "metadata": {},
   "outputs": [
    {
     "name": "stderr",
     "output_type": "stream",
     "text": [
      "Using TensorFlow backend.\n"
     ]
    }
   ],
   "source": [
    "import ast\n",
    "import os\n",
    "from nn_utils import TrainingHistory\n",
    "from keras.layers import Dense, Embedding, Input\n",
    "from keras.layers import GRU, Dropout, MaxPooling1D, Conv1D, Flatten\n",
    "from keras.models import Model\n",
    "import numpy as np\n",
    "import itertools\n",
    "from keras.utils import np_utils\n",
    "from sklearn.metrics import (classification_report, \n",
    "                             precision_recall_fscore_support, \n",
    "                             accuracy_score)\n",
    "\n",
    "from keras.preprocessing import text, sequence\n"
   ]
  },
  {
   "cell_type": "code",
   "execution_count": 18,
   "metadata": {
    "collapsed": true
   },
   "outputs": [],
   "source": [
    "# Model parameters\n",
    "MAX_FEATURES = 10000\n",
    "MAX_TEXT_LENGTH = 1024\n",
    "EMBED_SIZE  = 300\n",
    "BATCH_SIZE = 16\n",
    "EPOCHS = 10\n",
    "VALIDATION_SPLIT = 0.1"
   ]
  },
  {
   "cell_type": "code",
   "execution_count": 19,
   "metadata": {},
   "outputs": [
    {
     "name": "stdout",
     "output_type": "stream",
     "text": [
      "['Advertisement' 'Email' 'Form' 'Letter' 'Memo' 'News' 'Note' 'Report'\n",
      " 'Resume' 'Scientific']\n",
      "2760 690\n",
      "_________________________________________________________________\n",
      "Layer (type)                 Output Shape              Param #   \n",
      "=================================================================\n",
      "input_1 (InputLayer)         (None, 1024)              0         \n",
      "_________________________________________________________________\n",
      "embedding_1 (Embedding)      (None, 1024, 300)         3000000   \n",
      "_________________________________________________________________\n",
      "dropout_1 (Dropout)          (None, 1024, 300)         0         \n",
      "_________________________________________________________________\n",
      "conv1d_1 (Conv1D)            (None, 1024, 32)          19232     \n",
      "_________________________________________________________________\n",
      "max_pooling1d_1 (MaxPooling1 (None, 512, 32)           0         \n",
      "_________________________________________________________________\n",
      "flatten_1 (Flatten)          (None, 16384)             0         \n",
      "_________________________________________________________________\n",
      "dense_1 (Dense)              (None, 10)                163850    \n",
      "=================================================================\n",
      "Total params: 3,183,082\n",
      "Trainable params: 3,183,082\n",
      "Non-trainable params: 0\n",
      "_________________________________________________________________\n",
      "Train on 2484 samples, validate on 276 samples\n",
      "Epoch 1/10\n",
      "2484/2484 [==============================] - 48s 19ms/step - loss: 1.8285 - acc: 0.3088 - val_loss: 1.4495 - val_acc: 0.4746\n",
      "Epoch 2/10\n",
      "2484/2484 [==============================] - 48s 19ms/step - loss: 0.9826 - acc: 0.6622 - val_loss: 0.9633 - val_acc: 0.6522\n",
      "Epoch 3/10\n",
      "2484/2484 [==============================] - 47s 19ms/step - loss: 0.4257 - acc: 0.8692 - val_loss: 0.9046 - val_acc: 0.7101\n",
      "Epoch 4/10\n",
      "2484/2484 [==============================] - 47s 19ms/step - loss: 0.1926 - acc: 0.9509 - val_loss: 0.9736 - val_acc: 0.6703\n",
      "Epoch 5/10\n",
      "2484/2484 [==============================] - 48s 19ms/step - loss: 0.1066 - acc: 0.9682 - val_loss: 1.0496 - val_acc: 0.6920\n",
      "Epoch 6/10\n",
      "2484/2484 [==============================] - 47s 19ms/step - loss: 0.0669 - acc: 0.9819 - val_loss: 1.1255 - val_acc: 0.7065\n",
      "Epoch 7/10\n",
      "2484/2484 [==============================] - 47s 19ms/step - loss: 0.0501 - acc: 0.9851 - val_loss: 1.1093 - val_acc: 0.6993\n",
      "Epoch 8/10\n",
      "2484/2484 [==============================] - 48s 19ms/step - loss: 0.0375 - acc: 0.9891 - val_loss: 1.1464 - val_acc: 0.7138\n",
      "Epoch 9/10\n",
      "2484/2484 [==============================] - 47s 19ms/step - loss: 0.0336 - acc: 0.9907 - val_loss: 1.2104 - val_acc: 0.7101\n",
      "Epoch 10/10\n",
      "2484/2484 [==============================] - 47s 19ms/step - loss: 0.0289 - acc: 0.9903 - val_loss: 1.2100 - val_acc: 0.6993\n",
      "Test Accuracy: 0.7101449275362319\n",
      "p r f1 71.0 71.01 71.014\n",
      "             precision    recall  f1-score   support\n",
      "\n",
      "          0       0.77      0.61      0.68        44\n",
      "          1       0.93      0.90      0.92       120\n",
      "          2       0.79      0.74      0.77        86\n",
      "          3       0.67      0.69      0.68       113\n",
      "          4       0.70      0.84      0.76       124\n",
      "          5       0.62      0.42      0.50        38\n",
      "          6       0.52      0.72      0.60        36\n",
      "          7       0.34      0.40      0.37        53\n",
      "          8       0.96      0.96      0.96        24\n",
      "          9       0.74      0.44      0.55        52\n",
      "\n",
      "avg / total       0.72      0.71      0.71       690\n",
      "\n"
     ]
    }
   ],
   "source": [
    "def get_train_test(train_raw_text, test_raw_text):\n",
    "    \n",
    "    tokenizer = text.Tokenizer(num_words=MAX_FEATURES)\n",
    "\n",
    "    tokenizer.fit_on_texts(list(train_raw_text))\n",
    "    train_tokenized = tokenizer.texts_to_sequences(train_raw_text)\n",
    "    test_tokenized = tokenizer.texts_to_sequences(test_raw_text)\n",
    "    return sequence.pad_sequences(train_tokenized, maxlen=MAX_TEXT_LENGTH), \\\n",
    "           sequence.pad_sequences(test_tokenized, maxlen=MAX_TEXT_LENGTH)\n",
    "\n",
    "def get_model():\n",
    "\n",
    "    inputs = Input(shape=(MAX_TEXT_LENGTH,))\n",
    "    model = Embedding(input_dim=MAX_FEATURES,\\\n",
    "                      output_dim=EMBED_SIZE)(inputs)\n",
    "    model = Dropout(0.5)(model)\n",
    "    model = Conv1D(32, (2,), padding='same', activation='relu')(model)\n",
    "    model = MaxPooling1D(pool_size=2)(model)\n",
    "    model = Flatten()(model)\n",
    "    model = Dense(10, activation=\"softmax\")(model)\n",
    "    model = Model(inputs=inputs, outputs=model)\n",
    "    \n",
    "    model.compile(loss='categorical_crossentropy', optimizer='adam', metrics=['accuracy'])\n",
    "    model.summary()\n",
    "    return model\n",
    "\n",
    "\n",
    "def train_fit_predict(model, x_train, x_test, y, history):\n",
    "    \n",
    "    model.fit(x_train, y,\n",
    "              batch_size=BATCH_SIZE,\n",
    "              epochs=EPOCHS, verbose=1,\n",
    "              validation_split=VALIDATION_SPLIT)\n",
    "\n",
    "    return model.predict(x_test)\n",
    "\n",
    "\n",
    "# Get the list of different classes\n",
    "CLASSES_LIST = np.unique(Y_train)\n",
    "n_out = len(CLASSES_LIST)\n",
    "print(CLASSES_LIST)\n",
    "\n",
    "# Convert clas string to index\n",
    "from sklearn import preprocessing\n",
    "le = preprocessing.LabelEncoder()\n",
    "le.fit(CLASSES_LIST)\n",
    "y_train = le.transform(Y_train) \n",
    "y_test = le.transform(Y_test) \n",
    "train_y_cat = np_utils.to_categorical(y_train, n_out)\n",
    "\n",
    "# get the textual data in the correct format for NN\n",
    "x_vec_train, x_vec_test = get_train_test(X_train, X_test)\n",
    "print(len(x_vec_train), len(x_vec_test))\n",
    "\n",
    "# define the NN topology\n",
    "model = get_model()\n",
    "\n",
    "# Define training procedure\n",
    "history = TrainingHistory(x_vec_test, y_test, CLASSES_LIST)\n",
    "\n",
    "# Train and predict\n",
    "y_predicted = train_fit_predict(model, x_vec_train, x_vec_test, train_y_cat, history).argmax(1)\n",
    "\n",
    "\n",
    "print(\"Test Accuracy:\", accuracy_score(y_test, y_predicted))\n",
    "\n",
    "p, r, f1, s = precision_recall_fscore_support(y_test, y_predicted, \n",
    "                                              average='micro',\n",
    "                                              labels=[x for x in \n",
    "                                                      np.unique(y_train) \n",
    "                                                      if x not in ['CSDECMOTV']])\n",
    "\n",
    "print('p r f1 %.1f %.2f %.3f' % (np.average(p, weights=s)*100.0, \n",
    "                                 np.average(r, weights=s)*100.0, \n",
    "                                 np.average(f1, weights=s)*100.0))\n",
    "\n",
    "\n",
    "print(classification_report(y_test, y_predicted, labels=[x for x in \n",
    "                                                       np.unique(y_train) \n",
    "                                                       if x not in ['CSDECMOTV']]))"
   ]
  },
  {
   "cell_type": "markdown",
   "metadata": {},
   "source": [
    "The results achieved are reasonably good comparing to the size of our dataset. Indeed, to do better, our neural network needs more data because it performs two successive tasks : features learning and classification."
   ]
  },
  {
   "cell_type": "code",
   "execution_count": null,
   "metadata": {
    "collapsed": true
   },
   "outputs": [],
   "source": []
  }
 ],
 "metadata": {
  "kernelspec": {
   "display_name": "Python 3",
   "language": "python",
   "name": "python3"
  },
  "language_info": {
   "codemirror_mode": {
    "name": "ipython",
    "version": 3
   },
   "file_extension": ".py",
   "mimetype": "text/x-python",
   "name": "python",
   "nbconvert_exporter": "python",
   "pygments_lexer": "ipython3",
   "version": "3.6.3"
  }
 },
 "nbformat": 4,
 "nbformat_minor": 2
}
